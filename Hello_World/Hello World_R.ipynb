{
 "cells": [
  {
   "cell_type": "markdown",
   "id": "sonic-driver",
   "metadata": {},
   "source": [
    "# Hello World Program with R"
   ]
  },
  {
   "cell_type": "code",
   "execution_count": null,
   "id": "flush-mineral",
   "metadata": {},
   "outputs": [],
   "source": [
    "string <- \"Hello World\"\n",
    "print(string)"
   ]
  }
 ],
 "metadata": {
  "kernelspec": {
   "display_name": "R",
   "language": "R",
   "name": "ir"
  },
  "language_info": {
   "codemirror_mode": "r",
   "file_extension": ".r",
   "mimetype": "text/x-r-source",
   "name": "R",
   "pygments_lexer": "r",
   "version": "3.6.3"
  }
 },
 "nbformat": 4,
 "nbformat_minor": 5
}
